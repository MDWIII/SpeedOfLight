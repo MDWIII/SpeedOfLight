{
 "cells": [
  {
   "cell_type": "code",
   "execution_count": 18,
   "metadata": {
    "collapsed": false
   },
   "outputs": [],
   "source": [
    "import numpy as np\n",
    "import matplotlib.pyplot as plt\n",
    "% matplotlib inline\n",
    "import ad as ad"
   ]
  },
  {
   "cell_type": "markdown",
   "metadata": {},
   "source": [
    "## Calculate Capacitence  "
   ]
  },
  {
   "cell_type": "code",
   "execution_count": 19,
   "metadata": {
    "collapsed": false
   },
   "outputs": [
    {
     "name": "stdout",
     "output_type": "stream",
     "text": [
      "Calculated capacitance of premade capacitor: 0.170547574204 nF\n"
     ]
    }
   ],
   "source": [
    "E_0 = 8.85418782E-12 # \\epsilon_0\n",
    "u_0 = 1.25663706E-6 # \\mu_0\n",
    "\n",
    "'''w = 0.498 # length of capacitor\n",
    "a = 0.011 # outer radius of inner pipe\n",
    "b = 0.013 # inner radius of outer pipe'''\n",
    "\n",
    "l_c = 0.498 # +- 0.001 meters length of the cylidrical capacitor\n",
    "a_c = (0.022326)/2 # outside diameter divided by 2 for radius\n",
    "b_c = (0.026264)/2 # same as above\n",
    "\n",
    "C_calc = ((2*np.pi*E_0*l_c)/(np.log(b_c/a_c)))\n",
    "print(\"Calculated capacitance of premade capacitor: %s nF\" % (C_calc*10**9))"
   ]
  },
  {
   "cell_type": "markdown",
   "metadata": {},
   "source": [
    "## Actuall measuremnts of the coils we wound:\n",
    "first the small coil, then the one we ended up using which was a bit larger in size and turns. "
   ]
  },
  {
   "cell_type": "code",
   "execution_count": 20,
   "metadata": {
    "collapsed": false
   },
   "outputs": [
    {
     "name": "stdout",
     "output_type": "stream",
     "text": [
      "ballpark inductance = 0.594093373154 mH\n"
     ]
    }
   ],
   "source": [
    "f_target = 5.0E5 # Hz\n",
    "\n",
    "omega_target = 2*np.pi*f_target # omega(the resonant freq) is 2pi*f\n",
    "\n",
    "#C = 1.65844E-10 # capacitance of pre-made capacitor\n",
    "L_target = 1/((omega_target**2)*C_calc) # target inductance to make target resonant frequency (from equation 1)\n",
    "print('ballpark inductance = %s mH' % (L_target*10**3))"
   ]
  },
  {
   "cell_type": "markdown",
   "metadata": {},
   "source": [
    "## Calculate Inductance\n",
    "For both inductors.\n",
    "\n",
    "> Small inductor N = 150 turns \n",
    "\n",
    "> Large inductor N = 575 turns *inductor used for experiment*"
   ]
  },
  {
   "cell_type": "code",
   "execution_count": 21,
   "metadata": {
    "collapsed": false
   },
   "outputs": [
    {
     "name": "stdout",
     "output_type": "stream",
     "text": [
      "inductance of small coil: 0.4774820735335626 mH\n",
      "first aproximation of thoretical frequency for small inductor = 557.72334415 Khz\n"
     ]
    }
   ],
   "source": [
    "\n",
    "n1 = 150 # turns on the solinoid \n",
    "inductor1Length = .13256 # m\n",
    "inductor1Radius = 0.026694 # m\n",
    "L_small = ((u_0*np.pi*(n1**2)*(inductor1Radius**2))/inductor1Length)\n",
    "print('inductance of small coil: %s mH' % (L_small*10**3))\n",
    "\n",
    "\n",
    "ws = 1/np.sqrt(L_small*C_calc)\n",
    "fs = ws/(2*np.pi)\n",
    "\n",
    "print('first aproximation of thoretical frequency for small inductor = %s Khz' % (fs*10**-3))\n",
    "#print('coil density = %s (turns per cm)' % (n1/(inductor1Length*10**2)))\n",
    "#N = np.sqrt((L_target*inductorLength)/(u_0*np.pi*(inductorRadius**2)))\n",
    "\n",
    "#print('Number of turns = %s' % round(N))"
   ]
  },
  {
   "cell_type": "code",
   "execution_count": 22,
   "metadata": {
    "collapsed": false
   },
   "outputs": [
    {
     "name": "stdout",
     "output_type": "stream",
     "text": [
      "inductance of large coil: 3.834652266330525 mH\n",
      "first aproximation of thoretical frequency for large inductor = 196.804200987 Khz\n"
     ]
    }
   ],
   "source": [
    "n2 = 575 # turns on the solinoid\n",
    "inductor2Length = 0.509\n",
    "inductor2Radius = (0.0782 - 0.00086)/2\n",
    "\n",
    "L_large = ((u_0*np.pi*(n2**2)*(inductor2Radius**2))/inductor2Length)\n",
    "print('inductance of large coil: %s mH' % (L_large*10**3))\n",
    "\n",
    "wl = 1/np.sqrt(L_large*C_calc)\n",
    "fl = wl/(2*np.pi)\n",
    "\n",
    "print('first aproximation of thoretical frequency for large inductor = %s Khz' % (fl*10**-3))\n",
    "#print('coil density = %s (turns per cm)' % (n2/(inductor2Length*10**2)))"
   ]
  },
  {
   "cell_type": "markdown",
   "metadata": {},
   "source": [
    "##### These first values gave us a rough area in which to look for amplitude peaks."
   ]
  },
  {
   "cell_type": "markdown",
   "metadata": {},
   "source": [
    "### Retrive data from file and plot"
   ]
  },
  {
   "cell_type": "code",
   "execution_count": 23,
   "metadata": {
    "collapsed": false
   },
   "outputs": [
    {
     "data": {
      "image/png": "[encoded data removed]",
      "text/plain": [
       "<matplotlib.figure.Figure at 0x106a8b908>"
      ]
     },
     "metadata": {},
     "output_type": "display_data"
    }
   ],
   "source": [
    "#frequency Khz, amplitude Volts, phase microseconds\n",
    "a = np.genfromtxt('data.txt', delimiter = ',')\n",
    "#print(a)\n",
    "b = np.genfromtxt('8kResistorLargeCoil1.txt', delimiter = ',')\n",
    "c = np.genfromtxt('smallCoil1.txt', delimiter = ',')\n",
    "\n",
    "plt.figure(figsize = (11,7))\n",
    "plt.errorbar(a[ :,0],a[:,1], xerr=0.4, yerr=0.025, marker = 'o', linestyle = 'None', label = 'Large Coil on Table')\n",
    "plt.xlabel('Frequency (Khz)', size = '14')\n",
    "plt.ylabel('Amplitude (Volts)', size = '14')\n",
    "plt.errorbar(b[ :,0],b[:,1], xerr=0.4, yerr=0.05, marker = 'o', linestyle = 'None', label='Large Coil with 8k Resistor Suspended From Ceiling')\n",
    "#plt.plot(a[ :,0],a[:,1],'+', linestyle = 'None' )\n",
    "#plt.plot(b[ :,0],b[:,1], 'o')\n",
    "#plt.plot(c[ :,0],c[:,1], 'o') # small coil data\n",
    "#plt.plot(a[ :,0], a[ :,2])\n",
    "#plt.plot(165.8,1,'o')\n",
    "plt.legend()\n",
    "plt.savefig(\"peakPlot.png\", dpi=400)\n",
    "\n",
    "plt.show()\n",
    "\n",
    "\n"
   ]
  },
  {
   "cell_type": "code",
   "execution_count": 24,
   "metadata": {
    "collapsed": false
   },
   "outputs": [
    {
     "name": "stdout",
     "output_type": "stream",
     "text": [
      "200.3 2.0\n"
     ]
    }
   ],
   "source": [
    "'''\n",
    "\n",
    "data1 +- .025 volts and +- 0.1 khz\n",
    "\n",
    "8data +- 0.05 volts and +- 0.1 khz\n",
    "SmallData +- 0.25 volts and +- 1khz\n",
    "\n",
    "'''\n",
    "row = 10\n",
    "print(b[row,0], b[row,1])"
   ]
  },
  {
   "cell_type": "markdown",
   "metadata": {},
   "source": [
    "## calculate the speed of light.\n",
    "Using peaks of resonance found experimentally."
   ]
  },
  {
   "cell_type": "code",
   "execution_count": 1,
   "metadata": {
    "collapsed": false
   },
   "outputs": [
    {
     "ename": "NameError",
     "evalue": "name 'np' is not defined",
     "output_type": "error",
     "traceback": [
      "\u001b[0;31m---------------------------------------------------------------------------\u001b[0m",
      "\u001b[0;31mNameError\u001b[0m                                 Traceback (most recent call last)",
      "\u001b[0;32m<ipython-input-1-a2eb70b889a2>\u001b[0m in \u001b[0;36m<module>\u001b[0;34m()\u001b[0m\n\u001b[1;32m      1\u001b[0m \u001b[0mf\u001b[0m \u001b[0;34m=\u001b[0m \u001b[0;36m193.1e3\u001b[0m\u001b[0;34m\u001b[0m\u001b[0m\n\u001b[1;32m      2\u001b[0m \u001b[0;34m\u001b[0m\u001b[0m\n\u001b[0;32m----> 3\u001b[0;31m \u001b[0mspeedOfLight\u001b[0m \u001b[0;34m=\u001b[0m \u001b[0;34m(\u001b[0m\u001b[0;34m(\u001b[0m\u001b[0;36m2\u001b[0m\u001b[0;34m*\u001b[0m\u001b[0mnp\u001b[0m\u001b[0;34m.\u001b[0m\u001b[0mpi\u001b[0m\u001b[0;34m**\u001b[0m\u001b[0;36m2\u001b[0m\u001b[0;34m*\u001b[0m\u001b[0mf\u001b[0m\u001b[0;34m*\u001b[0m\u001b[0minductor2Radius\u001b[0m\u001b[0;34m*\u001b[0m\u001b[0mn2\u001b[0m\u001b[0;34m)\u001b[0m\u001b[0;34m*\u001b[0m\u001b[0mnp\u001b[0m\u001b[0;34m.\u001b[0m\u001b[0msqrt\u001b[0m\u001b[0;34m(\u001b[0m\u001b[0;34m(\u001b[0m\u001b[0;36m2\u001b[0m\u001b[0;34m*\u001b[0m\u001b[0ml_c\u001b[0m\u001b[0;34m)\u001b[0m\u001b[0;34m/\u001b[0m\u001b[0;34m(\u001b[0m\u001b[0minductor2Length\u001b[0m\u001b[0;34m*\u001b[0m\u001b[0mnp\u001b[0m\u001b[0;34m.\u001b[0m\u001b[0mlog\u001b[0m\u001b[0;34m(\u001b[0m\u001b[0mb_c\u001b[0m\u001b[0;34m/\u001b[0m\u001b[0ma_c\u001b[0m\u001b[0;34m)\u001b[0m\u001b[0;34m)\u001b[0m\u001b[0;34m)\u001b[0m\u001b[0;34m)\u001b[0m\u001b[0;34m\u001b[0m\u001b[0m\n\u001b[0m\u001b[1;32m      4\u001b[0m \u001b[0mprint\u001b[0m\u001b[0;34m(\u001b[0m\u001b[0mformat\u001b[0m\u001b[0;34m(\u001b[0m\u001b[0mspeedOfLight\u001b[0m\u001b[0;34m,\u001b[0m\u001b[0;34m\"e\"\u001b[0m\u001b[0;34m)\u001b[0m\u001b[0;34m)\u001b[0m\u001b[0;34m\u001b[0m\u001b[0m\n\u001b[1;32m      5\u001b[0m \u001b[0;34m\u001b[0m\u001b[0m\n",
      "\u001b[0;31mNameError\u001b[0m: name 'np' is not defined"
     ]
    }
   ],
   "source": [
    "f = 193.1e3\n",
    "\n",
    "speedOfLight = ((2*np.pi**2*f*inductor2Radius*n2)*np.sqrt((2*l_c)/(inductor2Length*np.log(b_c/a_c))))\n",
    "print(format(speedOfLight,\"e\"))\n",
    "\n",
    "actuall_c = 2.99794e8\n",
    "\n",
    "100*((actuall_c - speedOfLight)/speedOfLight)"
   ]
  },
  {
   "cell_type": "code",
   "execution_count": 36,
   "metadata": {
    "collapsed": false
   },
   "outputs": [
    {
     "name": "stdout",
     "output_type": "stream",
     "text": [
      "3.046606e+08\n"
     ]
    },
    {
     "data": {
      "text/plain": [
       "-1.5973934127984095"
      ]
     },
     "execution_count": 36,
     "metadata": {},
     "output_type": "execute_result"
    }
   ],
   "source": [
    "f = 200.0e3\n",
    "\n",
    "speedOfLight = ((2*np.pi**2*f*inductor2Radius*n2)*np.sqrt((2*l_c)/(inductor2Length*np.log(b_c/a_c))))\n",
    "print(format(speedOfLight,\"e\"))\n",
    "\n",
    "actuall_c = 2.99794e8\n",
    "\n",
    "100*((actuall_c - speedOfLight)/speedOfLight)"
   ]
  },
  {
   "cell_type": "code",
   "execution_count": 26,
   "metadata": {
    "collapsed": false
   },
   "outputs": [
    {
     "name": "stdout",
     "output_type": "stream",
     "text": [
      "0.00840427353961\n",
      "4.679324e+07\n"
     ]
    },
    {
     "data": {
      "text/plain": [
       "540.67795775121624"
      ]
     },
     "execution_count": 26,
     "metadata": {},
     "output_type": "execute_result"
    }
   ],
   "source": [
    "# now with correction factors\n",
    "\n",
    "gamma_c = ((b_c-a_c)/(np.pi*l_c))*np.log((np.pi*l_c)/(b_c-a_c))\n",
    "\n",
    "c_corr = speedOfLight*(np.sqrt(1+gamma_c))\n",
    "\n",
    "print(gamma_c)\n",
    "print(format(c_corr, 'e'))\n",
    "\n",
    "100*((actuall_c - c_corr)/c_corr)"
   ]
  },
  {
   "cell_type": "markdown",
   "metadata": {},
   "source": [
    "## Add Uncertainties\n",
    "To our existing data for analysis."
   ]
  },
  {
   "cell_type": "code",
   "execution_count": 27,
   "metadata": {
    "collapsed": false
   },
   "outputs": [],
   "source": [
    "import uncertainties as u\n",
    "#import uncertainties.math\n",
    "\n",
    "frequencyA = np.ndarray.tolist(a[:,0])\n",
    "voltageA = np.ndarray.tolist(a[:,1])\n",
    "\n",
    "aferror = [u.ufloat(val, .1) for val in frequencyA]\n",
    "averror = [u.ufloat(val, .025) for val in voltageA]\n",
    "\n",
    "frequencyB = np.ndarray.tolist(b[:,0])\n",
    "voltageB = np.ndarray.tolist(b[:,1])\n",
    "\n",
    "bferror = [u.ufloat(val, .1) for val in frequencyB]\n",
    "bverror = [u.ufloat(val, .05) for val in voltageB]\n",
    "\n",
    "frequencyC = np.ndarray.tolist(c[:,0])\n",
    "voltageC = np.ndarray.tolist(c[:,1])\n",
    "\n",
    "cferror = [u.ufloat(val, 1.0) for val in frequencyC]\n",
    "cverror = [u.ufloat(val, 0.25) for val in voltageC]\n",
    "\n",
    "\n",
    "##################\n"
   ]
  },
  {
   "cell_type": "markdown",
   "metadata": {},
   "source": [
    "### High / Low calculations for error analysis "
   ]
  },
  {
   "cell_type": "code",
   "execution_count": 37,
   "metadata": {
    "collapsed": false
   },
   "outputs": [
    {
     "name": "stdout",
     "output_type": "stream",
     "text": [
      "(3.019+/-0.008)e+08\n"
     ]
    }
   ],
   "source": [
    "SOLa = 2*np.pi**2*u.ufloat(193.1e3, .1)*n2*u.ufloat(inductor2Radius,.0001)*(((2*u.ufloat(l_c, .0002))/(u.ufloat(inductor2Length,.0002)*(np.log((b_c-.00005)) - np.log((a_c+.00005)))))**(1/2))\n",
    "print(SOLa)"
   ]
  },
  {
   "cell_type": "code",
   "execution_count": 29,
   "metadata": {
    "collapsed": false
   },
   "outputs": [
    {
     "name": "stdout",
     "output_type": "stream",
     "text": [
      "2.0+/-0.5\n"
     ]
    }
   ],
   "source": [
    "print((u.ufloat(2,1)*u.ufloat(2,.1))**(1/2))"
   ]
  },
  {
   "cell_type": "code",
   "execution_count": 30,
   "metadata": {
    "collapsed": false
   },
   "outputs": [
    {
     "name": "stdout",
     "output_type": "stream",
     "text": [
      "2.9429999999999996\n"
     ]
    }
   ],
   "source": [
    "print(( 2.868 + 3.018)/2.0)\n",
    "#print(2.946 - 2.934)"
   ]
  },
  {
   "cell_type": "code",
   "execution_count": 31,
   "metadata": {
    "collapsed": false
   },
   "outputs": [
    {
     "name": "stdout",
     "output_type": "stream",
     "text": [
      "(3.053+/-0.008)e+08\n"
     ]
    }
   ],
   "source": [
    "SOLb = 2*np.pi**2*u.ufloat(200e3, .1)*n2*u.ufloat(inductor2Radius,.0001)*(((2*u.ufloat(l_c, .0002))/(u.ufloat(inductor2Length,.0002)*(np.log((b_c+.00005)) - np.log((a_c+.00005)))))**(1/2))\n",
    "print(SOLb)"
   ]
  },
  {
   "cell_type": "code",
   "execution_count": 32,
   "metadata": {
    "collapsed": false
   },
   "outputs": [
    {
     "name": "stdout",
     "output_type": "stream",
     "text": [
      "0.006890461013314607\n"
     ]
    }
   ],
   "source": [
    "bCorF = ((.8e3/(4*np.pi*200e3*L_large))**2)\n",
    "print(bCorF)"
   ]
  },
  {
   "cell_type": "code",
   "execution_count": 33,
   "metadata": {
    "collapsed": false
   },
   "outputs": [
    {
     "name": "stdout",
     "output_type": "stream",
     "text": [
      "(4.461+/-0.012)e+10\n"
     ]
    }
   ],
   "source": [
    "print(SOLb * (1+(1/bCorF)))"
   ]
  },
  {
   "cell_type": "code",
   "execution_count": null,
   "metadata": {
    "collapsed": true
   },
   "outputs": [],
   "source": []
  },
  {
   "cell_type": "code",
   "execution_count": null,
   "metadata": {
    "collapsed": true
   },
   "outputs": [],
   "source": []
  }
 ],
 "metadata": {
  "kernelspec": {
   "display_name": "Python 3",
   "language": "python",
   "name": "python3"
  },
  "language_info": {
   "codemirror_mode": {
    "name": "ipython",
    "version": 3
   },
   "file_extension": ".py",
   "mimetype": "text/x-python",
   "name": "python",
   "nbconvert_exporter": "python",
   "pygments_lexer": "ipython3",
   "version": "3.4.3"
  }
 },
 "nbformat": 4,
 "nbformat_minor": 0
}
